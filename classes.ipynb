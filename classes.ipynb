{
  "nbformat": 4,
  "nbformat_minor": 0,
  "metadata": {
    "colab": {
      "provenance": [],
      "authorship_tag": "ABX9TyMjwH08hutRofAagA3fgVy5",
      "include_colab_link": true
    },
    "kernelspec": {
      "name": "python3",
      "display_name": "Python 3"
    },
    "language_info": {
      "name": "python"
    }
  },
  "cells": [
    {
      "cell_type": "markdown",
      "metadata": {
        "id": "view-in-github",
        "colab_type": "text"
      },
      "source": [
        "<a href=\"https://colab.research.google.com/github/parvbharti/Python_Repo/blob/main/classes.ipynb\" target=\"_parent\"><img src=\"https://colab.research.google.com/assets/colab-badge.svg\" alt=\"Open In Colab\"/></a>"
      ]
    },
    {
      "cell_type": "code",
      "execution_count": 1,
      "metadata": {
        "colab": {
          "base_uri": "https://localhost:8080/"
        },
        "id": "URqyo8it0s6D",
        "outputId": "de95cd2b-317a-4ab6-dc12-28a25e228630"
      },
      "outputs": [
        {
          "output_type": "stream",
          "name": "stdout",
          "text": [
            "Try Block Start.\n",
            "Except Block. Error has occured\n",
            "Finally Block\n"
          ]
        }
      ],
      "source": [
        "##IF NO ERROR OCCURS-->TRY 2,ELSE,FINALLY\n",
        "# IF ERROR--> TRY 1 ,EXCEPT,FINALLY \n",
        "\n",
        "try:\n",
        "    print(\"Try Block Start.\")\n",
        "    a=1/0\n",
        "    print(\"Try Block End.\")\n",
        "\n",
        "except:\n",
        "    print(\"Except Block. Error has occured\")\n",
        "else:\n",
        "    print(\"Else Block\")\n",
        "finally:\n",
        "    print(\"Finally Block\")"
      ]
    },
    {
      "cell_type": "code",
      "source": [
        "# INHERITANCE\n",
        "\n",
        "class Person:\n",
        "    def __init__(self,name,age):\n",
        "        self.name = name\n",
        "        self.age = age\n",
        "    \n",
        "    def get_first_name(self):\n",
        "        return self.name.split()[0]\n",
        "\n",
        "    def get_last_name(self):\n",
        "        return self.name.split()[-1]\n",
        "\n",
        "class Patient(Person):\n",
        "    def __init__(self,name,age,ssn):\n",
        "        super().__init__(name,age)\n",
        "        self.ssn = ssn\n",
        "\n",
        "    ##for user\n",
        "    def __str__(self):\n",
        "        s=\"The age of\"+ str(self.name)+\"is\" +str(self.age) + \".\\n\"\n",
        "        s+= \"And the Social Security Number is \"+ str(self.ssn)\n",
        "        return s\n",
        "\n",
        "    #for programmer\n",
        "    def __repr__(self):\n",
        "        s=\"Patient(\" + str(self.name) + \",\" + str(self.age) + \",\" + str(self.ssn)+\")\"\n",
        "        return s\n",
        "        \n",
        "\n",
        "Patient1=Patient(\"Jhon M. Doe\",54,1234567)\n",
        "print(Patient1.get_first_name())\n",
        "#print(Patient1)\n",
        "print(Patient1.__repr__())"
      ],
      "metadata": {
        "colab": {
          "base_uri": "https://localhost:8080/"
        },
        "id": "KXVhtDzB05o-",
        "outputId": "240b93d7-2c9e-4f34-c96a-6b64f7133c24"
      },
      "execution_count": 2,
      "outputs": [
        {
          "output_type": "stream",
          "name": "stdout",
          "text": [
            "Jhon\n",
            "Patient(Jhon M. Doe,54,1234567)\n"
          ]
        }
      ]
    },
    {
      "cell_type": "code",
      "source": [
        "'''Person(fname,lname,age)\n",
        "get_full_name()\n",
        "\n",
        "student(fname,lname,age,reg_no,maths,sciene,english)\n",
        "get_total_marks()\n",
        "\n",
        "Teacher(fname,lname,age,subjects)\n",
        "get_subjects()'''\n",
        "\n",
        "class Person:\n",
        "    def __init__(self,fname,lname,age):\n",
        "        self.fname = fname\n",
        "        self.lname = lname\n",
        "        self.age = age\n",
        "\n",
        "    def __str__(self):\n",
        "        s=\"Person Full Name: \"+ self.fname+self.lname +\" and the age is:\"+str(self.age) + \".\\n\"\n",
        "        return s\n",
        "\n",
        "class student(Person):\n",
        "    def __init__(self,fname,lname,age,reg_no,maths,science,english):\n",
        "        super().__init__(fname,lname,age)\n",
        "        self.reg_no = reg_no\n",
        "        self.maths = maths\n",
        "        self.science =science\n",
        "        self.english = english\n",
        "\n",
        "    def __str__(self):\n",
        "        s=\"First Name: \" + self.fname+ \" Last Name: \" + self.lname+\" Age: \" + str(self.age)+\" Reg_no: \" +\\\n",
        "             str(self.reg_no)+ \" maths: \" + str(self.maths)+ \" science: \" + str(self.science)+\" english:\"+ str(self.english)\n",
        "        return s\n",
        "\n",
        "    def get_total_marks(self):\n",
        "        res= self.maths+self.science+self.english\n",
        "        return res\n",
        "\n",
        "class Teacher(Person):\n",
        "    def __init__(self,fname,lname,age,subjects):\n",
        "        super().__init__(fname,lname,age)\n",
        "        self.subjects=subjects\n",
        "\n",
        "    def __str__(self):\n",
        "        s=\"Full Name:\"+ self.fname+\" \"+self.lname+ \"\\n and he teaches :\"\n",
        "        for x in self.subjects:\n",
        "            s+=x + \",\" \n",
        "        return s\n",
        "\n",
        "class HOD(Teacher):\n",
        "    def __init__(self,fname,lname,age,subjects,teachers):\n",
        "        super().__init__(fname,lname,age,subjects)\n",
        "        self.teachers=teachers\n",
        "\n",
        "    def get_teachers_managed(self):\n",
        "        tchrs = \"\"\n",
        "        for iter in self.teachers:\n",
        "            tchrs += str(iter)+ \"\\n\"\n",
        "        return tchrs\n",
        "\n",
        "    def __str__(self):\n",
        "        s=super().__str__()\n",
        "        s+=\"\\n Teachers Details: \\n\"+ self.get_teachers_managed()\n",
        "        return s\n",
        "        \n",
        "\n",
        "\n",
        "\n",
        "#Patient2=student(\"Jhon\",\" M. Doe\",54,3456,34,56,78)\n",
        "#print(Patient2.__str__())\n",
        "#print(Patient2.get_total_marks())\n",
        "t1=Teacher(\"Virat\",\" Kohli\",32,['Maths','Science'])\n",
        "t2=Teacher(\"Rohit\",\" Sharma\",32,['Maths','English'])\n",
        "#print(t1.__str__())\n",
        "\n",
        "hod1=HOD(\"Shubhman\",\"kohli\",23,['eng','hin'],[t1,t2])\n",
        "print(hod1)"
      ],
      "metadata": {
        "colab": {
          "base_uri": "https://localhost:8080/"
        },
        "id": "Hd_N1GBc1Abq",
        "outputId": "6d60211e-c8d2-434d-a0fe-c819072fc322"
      },
      "execution_count": 14,
      "outputs": [
        {
          "output_type": "stream",
          "name": "stdout",
          "text": [
            "Full Name:Shubhman kohli\n",
            " and he teaches :eng,hin,\n",
            " Teachers Details: \n",
            "Full Name:Virat  Kohli\n",
            " and he teaches :Maths,Science,\n",
            "Full Name:Rohit  Sharma\n",
            " and he teaches :Maths,English,\n",
            "\n"
          ]
        }
      ]
    }
  ]
}